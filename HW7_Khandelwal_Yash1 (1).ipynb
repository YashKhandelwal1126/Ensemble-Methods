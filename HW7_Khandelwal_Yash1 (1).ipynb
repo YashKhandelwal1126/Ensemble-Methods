{
  "nbformat": 4,
  "nbformat_minor": 0,
  "metadata": {
    "colab": {
      "name": "HW7_Khandelwal_Yash1.ipynb",
      "provenance": [],
      "collapsed_sections": [
        "UDtpJLrCXdj-",
        "TC9xxX-MaJiJ"
      ]
    },
    "kernelspec": {
      "name": "python3",
      "display_name": "Python 3"
    },
    "language_info": {
      "name": "python"
    }
  },
  "cells": [
    {
      "cell_type": "markdown",
      "metadata": {
        "id": "YEBNn7WNVVH9"
      },
      "source": [
        "# Homework 7 (30 marks)\n",
        "Create a copy of the notebook to start answering the questions. Name your notebook in the format HW7_lastname_firstname.ipynb to facilitate the grading process.\n",
        "\n",
        "Answer all the questions, test your code to ensure there are no errors and the results are as expected. Once you have answered all the questions, save the final copy, then go to File-> click on Download.ipynb. Once the local copy has been downloaded, submit your file on Blackboard under the corresponding assignment section. Also provide us a link to your notebook during submission.\n",
        "\n",
        "NOTE: Please give the TAs the permission to access your notebooks through the links you have provided during submission.\n",
        "\n",
        "The due date of this homework is 04/23/2021 (Friday).\n",
        "\n",
        "Please ensure you follow all the steps mentioned in the homework.\n",
        "\n",
        "You can submit your solutions any number of times until the deadline.\n",
        "\n",
        "The datasets used in this homework can be found in the google drive link below -\n",
        "\n",
        "https://drive.google.com/drive/folders/1NxCh4X7u7wVo5aHojxjLNs9wC7B7zJhb?usp=sharing\n",
        "\n",
        "Follow the necessary steps to import data to test your code. You can use any method to read your data in the notebook. We will not be grading the methods you use. We will only grade the code from the point where you read the dataset into a pandas dataframe - (pd.read_csv('file_name'))"
      ]
    },
    {
      "cell_type": "markdown",
      "metadata": {
        "id": "XNkmD9GdVx37"
      },
      "source": [
        "Import all the libraries you require in the cell below.\n"
      ]
    },
    {
      "cell_type": "code",
      "metadata": {
        "id": "O38dWgFrTt9g"
      },
      "source": [
        "import pandas as pd\n",
        "import numpy as np\n",
        "from sklearn.impute import SimpleImputer\n",
        "from sklearn.preprocessing import MinMaxScaler\n",
        "import seaborn as sns\n",
        "from sklearn.model_selection import train_test_split\n",
        "# Enter your code here"
      ],
      "execution_count": 1,
      "outputs": []
    },
    {
      "cell_type": "markdown",
      "metadata": {
        "id": "HggTkCZoWOSE"
      },
      "source": [
        "## Implement the Ensemble methods learnt in class and compare their accuarcies."
      ]
    },
    {
      "cell_type": "markdown",
      "metadata": {
        "id": "g-eAjVVDV_Nm"
      },
      "source": [
        "The dataset you are going to be using for homework is the **Wisconsin Breast Cancer dataset (cancer.csv)**\n",
        "\n",
        "The dataset contains a total number of 10 features labeled in either benign or malignant classes. The features have 699 instances out of which 16 feature values are missing. The dataset only contains numeric values.\n",
        "\n",
        "Attribute Information:\n",
        "\n",
        "1. Sample code number: id number\n",
        "2. Clump Thickness: 1 - 10\n",
        "3. Uniformity of Cell Size: 1 - 10\n",
        "4. Uniformity of Cell Shape: 1 - 10\n",
        "5. Marginal Adhesion: 1 - 10\n",
        "6. Single Epithelial Cell Size: 1 - 10\n",
        "7. Bare Nuclei: 1 - 10\n",
        "8. Bland Chromatin: 1 - 10\n",
        "9. Normal Nucleoli: 1 - 10\n",
        "10. Mitoses: 1 - 10\n",
        "11. Class: (2 for benign, 4 for malignant) (**target variable**)\n",
        "\n",
        "For more information: https://archive.ics.uci.edu/ml/datasets/breast+cancer+wisconsin+(original)"
      ]
    },
    {
      "cell_type": "markdown",
      "metadata": {
        "id": "g3iLZY-gXhVH"
      },
      "source": [
        "### 1. Read the dataset into variable called '**data**' (1 mark)"
      ]
    },
    {
      "cell_type": "code",
      "metadata": {
        "id": "U2II5L3AXn2A",
        "colab": {
          "base_uri": "https://localhost:8080/"
        },
        "outputId": "46d96d1c-95b7-4d51-e745-e7d41e4cfbb8"
      },
      "source": [
        "pd.set_option('display.max_columns', 100)\n",
        "# Enter your code here\n",
        "data = pd.read_csv('cancer.csv')\n",
        "print(data)\n"
      ],
      "execution_count": 2,
      "outputs": [
        {
          "output_type": "stream",
          "text": [
            "     Sample Code Number  Clump Thickness  Uniformity of Cell Size   \\\n",
            "0               1000025                5                         1   \n",
            "1               1002945                5                         4   \n",
            "2               1015425                3                         1   \n",
            "3               1016277                6                         8   \n",
            "4               1017023                4                         1   \n",
            "..                  ...              ...                       ...   \n",
            "694              776715                3                         1   \n",
            "695              841769                2                         1   \n",
            "696              888820                5                        10   \n",
            "697              897471                4                         8   \n",
            "698              897471                4                         8   \n",
            "\n",
            "     Uniformity of Cell Shape  Marginal Adhesion  Single Epithelial Cell Size  \\\n",
            "0                           1                  1                            2   \n",
            "1                           4                  5                            7   \n",
            "2                           1                  1                            2   \n",
            "3                           8                  1                            3   \n",
            "4                           1                  3                            2   \n",
            "..                        ...                ...                          ...   \n",
            "694                         1                  1                            3   \n",
            "695                         1                  1                            2   \n",
            "696                        10                  3                            7   \n",
            "697                         6                  4                            3   \n",
            "698                         8                  5                            4   \n",
            "\n",
            "    Bland Chromatin  Bare Nuclei  Normal Nucleoli  Mitosis  Class  \n",
            "0                 1            3                1        1      2  \n",
            "1                10            3                2        1      2  \n",
            "2                 2            3                1        1      2  \n",
            "3                 4            3                7        1      2  \n",
            "4                 1            3                1        1      2  \n",
            "..              ...          ...              ...      ...    ...  \n",
            "694               2            1                1        1      2  \n",
            "695               1            1                1        1      2  \n",
            "696               3            8               10        2      4  \n",
            "697               4           10                6        1      4  \n",
            "698               5           10                4        1      4  \n",
            "\n",
            "[699 rows x 11 columns]\n"
          ],
          "name": "stdout"
        }
      ]
    },
    {
      "cell_type": "markdown",
      "metadata": {
        "id": "7DvQpJcMXRd0"
      },
      "source": [
        "### **Preprocessing**: Data needs to be preprocessed before implementing ensemble methods. It is done for you here. \n",
        "### Run the below code first and then answer the questions from 2 - 7."
      ]
    },
    {
      "cell_type": "markdown",
      "metadata": {
        "id": "UDtpJLrCXdj-"
      },
      "source": [
        "#### Deleting unnecessary columns: The column \"Sample code number\" is just an indicator and it's of no use in the modeling. So, let's drop it:\n"
      ]
    },
    {
      "cell_type": "code",
      "metadata": {
        "id": "3bbOI9AYTziJ",
        "colab": {
          "base_uri": "https://localhost:8080/"
        },
        "outputId": "79c81c5d-17dd-491c-9528-b3b221532e5f"
      },
      "source": [
        "data = pd.read_csv('cancer.csv')\n",
        "\n",
        "\n",
        "data.drop(['Sample Code Number'], axis=1, inplace=True)\n",
        "print(data)\n"
      ],
      "execution_count": 3,
      "outputs": [
        {
          "output_type": "stream",
          "text": [
            "     Clump Thickness  Uniformity of Cell Size   Uniformity of Cell Shape  \\\n",
            "0                  5                         1                         1   \n",
            "1                  5                         4                         4   \n",
            "2                  3                         1                         1   \n",
            "3                  6                         8                         8   \n",
            "4                  4                         1                         1   \n",
            "..               ...                       ...                       ...   \n",
            "694                3                         1                         1   \n",
            "695                2                         1                         1   \n",
            "696                5                        10                        10   \n",
            "697                4                         8                         6   \n",
            "698                4                         8                         8   \n",
            "\n",
            "     Marginal Adhesion  Single Epithelial Cell Size Bland Chromatin  \\\n",
            "0                    1                            2               1   \n",
            "1                    5                            7              10   \n",
            "2                    1                            2               2   \n",
            "3                    1                            3               4   \n",
            "4                    3                            2               1   \n",
            "..                 ...                          ...             ...   \n",
            "694                  1                            3               2   \n",
            "695                  1                            2               1   \n",
            "696                  3                            7               3   \n",
            "697                  4                            3               4   \n",
            "698                  5                            4               5   \n",
            "\n",
            "     Bare Nuclei  Normal Nucleoli  Mitosis  Class  \n",
            "0              3                1        1      2  \n",
            "1              3                2        1      2  \n",
            "2              3                1        1      2  \n",
            "3              3                7        1      2  \n",
            "4              3                1        1      2  \n",
            "..           ...              ...      ...    ...  \n",
            "694            1                1        1      2  \n",
            "695            1                1        1      2  \n",
            "696            8               10        2      4  \n",
            "697           10                6        1      4  \n",
            "698           10                4        1      4  \n",
            "\n",
            "[699 rows x 10 columns]\n"
          ],
          "name": "stdout"
        }
      ]
    },
    {
      "cell_type": "markdown",
      "metadata": {
        "id": "uaUqMhEPYqSF"
      },
      "source": [
        "#### Handling missing values : \n",
        "As mentioned earlier, the dataset contains missing values. The column named \"Bland Chromatin\" contains them. The missing values are represneted as \"?\". \n",
        "\n",
        "Replace those \"?\"s with 0's and impute them with Mean Imputation"
      ]
    },
    {
      "cell_type": "code",
      "metadata": {
        "id": "cHu_DIDcZs_8",
        "colab": {
          "base_uri": "https://localhost:8080/"
        },
        "outputId": "059c019a-c889-4ad4-8466-53191467d44e"
      },
      "source": [
        "data['Bland Chromatin']"
      ],
      "execution_count": 4,
      "outputs": [
        {
          "output_type": "execute_result",
          "data": {
            "text/plain": [
              "0       1\n",
              "1      10\n",
              "2       2\n",
              "3       4\n",
              "4       1\n",
              "       ..\n",
              "694     2\n",
              "695     1\n",
              "696     3\n",
              "697     4\n",
              "698     5\n",
              "Name: Bland Chromatin, Length: 699, dtype: object"
            ]
          },
          "metadata": {
            "tags": []
          },
          "execution_count": 4
        }
      ]
    },
    {
      "cell_type": "code",
      "metadata": {
        "id": "u_5GSsVjU930",
        "colab": {
          "base_uri": "https://localhost:8080/"
        },
        "outputId": "843ef30f-84e9-4bed-941c-14ebdf5f4bd3"
      },
      "source": [
        "data.replace('?',0, inplace=True)\n",
        "print(data)"
      ],
      "execution_count": 5,
      "outputs": [
        {
          "output_type": "stream",
          "text": [
            "     Clump Thickness  Uniformity of Cell Size   Uniformity of Cell Shape  \\\n",
            "0                  5                         1                         1   \n",
            "1                  5                         4                         4   \n",
            "2                  3                         1                         1   \n",
            "3                  6                         8                         8   \n",
            "4                  4                         1                         1   \n",
            "..               ...                       ...                       ...   \n",
            "694                3                         1                         1   \n",
            "695                2                         1                         1   \n",
            "696                5                        10                        10   \n",
            "697                4                         8                         6   \n",
            "698                4                         8                         8   \n",
            "\n",
            "     Marginal Adhesion  Single Epithelial Cell Size Bland Chromatin  \\\n",
            "0                    1                            2               1   \n",
            "1                    5                            7              10   \n",
            "2                    1                            2               2   \n",
            "3                    1                            3               4   \n",
            "4                    3                            2               1   \n",
            "..                 ...                          ...             ...   \n",
            "694                  1                            3               2   \n",
            "695                  1                            2               1   \n",
            "696                  3                            7               3   \n",
            "697                  4                            3               4   \n",
            "698                  5                            4               5   \n",
            "\n",
            "     Bare Nuclei  Normal Nucleoli  Mitosis  Class  \n",
            "0              3                1        1      2  \n",
            "1              3                2        1      2  \n",
            "2              3                1        1      2  \n",
            "3              3                7        1      2  \n",
            "4              3                1        1      2  \n",
            "..           ...              ...      ...    ...  \n",
            "694            1                1        1      2  \n",
            "695            1                1        1      2  \n",
            "696            8               10        2      4  \n",
            "697           10                6        1      4  \n",
            "698           10                4        1      4  \n",
            "\n",
            "[699 rows x 10 columns]\n"
          ],
          "name": "stdout"
        }
      ]
    },
    {
      "cell_type": "code",
      "metadata": {
        "id": "LV3PVQB0U_mF"
      },
      "source": [
        "# Convert the DataFrame object into NumPy array otherwise you will not be able to impute\n",
        "values = data.values\n",
        "# Now impute it\n",
        "imputer = SimpleImputer(missing_values=np.nan, strategy='mean')\n",
        "imputedData = imputer.fit_transform(values)"
      ],
      "execution_count": 6,
      "outputs": []
    },
    {
      "cell_type": "markdown",
      "metadata": {
        "id": "TC9xxX-MaJiJ"
      },
      "source": [
        "#### Normalizing the data:\n",
        "Ranges of the features of the dataset are not the same. This may cause a problem. A small change in a feature might not affect the other. To address this problem, normalize the ranges of the features to a uniform range, in this case, 0 - 1."
      ]
    },
    {
      "cell_type": "code",
      "metadata": {
        "id": "VomHojxET85c",
        "colab": {
          "base_uri": "https://localhost:8080/"
        },
        "outputId": "c57cf2c7-9ebd-4dc1-aeae-5ae3d4936461"
      },
      "source": [
        "scaler = MinMaxScaler(feature_range=(0, 1))\n",
        "normalizedData = scaler.fit_transform(imputedData)\n",
        "cols = ['Clump Thickness', 'Uniformity of Cell Size', 'Uniformity of Cell Shape', 'Marginal Adhesion', 'Single Epithelial Cell Size', 'Bland Chromatin', 'Bare Nuclei', 'Normal Nucleoli', 'Mitosis','Class']\n",
        "normalizedData = pd.DataFrame(normalizedData, columns=cols)\n",
        "print(normalizedData.head())"
      ],
      "execution_count": 7,
      "outputs": [
        {
          "output_type": "stream",
          "text": [
            "   Clump Thickness  Uniformity of Cell Size  Uniformity of Cell Shape  \\\n",
            "0         0.444444                 0.000000                  0.000000   \n",
            "1         0.444444                 0.333333                  0.333333   \n",
            "2         0.222222                 0.000000                  0.000000   \n",
            "3         0.555556                 0.777778                  0.777778   \n",
            "4         0.333333                 0.000000                  0.000000   \n",
            "\n",
            "   Marginal Adhesion  Single Epithelial Cell Size  Bland Chromatin  \\\n",
            "0           0.000000                     0.111111              0.1   \n",
            "1           0.444444                     0.666667              1.0   \n",
            "2           0.000000                     0.111111              0.2   \n",
            "3           0.000000                     0.222222              0.4   \n",
            "4           0.222222                     0.111111              0.1   \n",
            "\n",
            "   Bare Nuclei  Normal Nucleoli  Mitosis  Class  \n",
            "0     0.222222         0.000000      0.0    0.0  \n",
            "1     0.222222         0.111111      0.0    0.0  \n",
            "2     0.222222         0.000000      0.0    0.0  \n",
            "3     0.222222         0.666667      0.0    0.0  \n",
            "4     0.222222         0.000000      0.0    0.0  \n"
          ],
          "name": "stdout"
        }
      ]
    },
    {
      "cell_type": "markdown",
      "metadata": {
        "id": "Sb2YjZckaZ2-"
      },
      "source": [
        "### Data preprocessing is done and now you will answer the below questions using the **normalizedData**: "
      ]
    },
    {
      "cell_type": "markdown",
      "metadata": {
        "id": "Cq2ChemrbDz2"
      },
      "source": [
        "### 2. Split the data into test and training data with test size - 30%. Compute the baseline classification accuracy for X_train. (3 marks)"
      ]
    },
    {
      "cell_type": "code",
      "metadata": {
        "id": "gOshE9K_UA5S",
        "colab": {
          "base_uri": "https://localhost:8080/"
        },
        "outputId": "f1fc6154-d438-43ec-aad6-63b5dfbd62d5"
      },
      "source": [
        "# Enter your code here\n",
        "X = normalizedData.iloc[:, 0:9]\n",
        "y = normalizedData.iloc[:, 9]\n",
        "\n",
        "print(normalizedData.shape)\n",
        "print(X.shape)\n",
        "print(y.shape)\n",
        "\n",
        "X_train, X_test, y_train, y_test = train_test_split(X, y, test_size = 0.3, stratify = y, random_state = 42)\n",
        "\n",
        "from sklearn.dummy import DummyClassifier\n",
        "\n",
        "classifier = DummyClassifier(strategy = 'most_frequent')\n",
        "classifier.fit(X_train, y_train)\n",
        "baseline_accuracy = classifier.score(X_test, y_test)\n",
        "\n",
        "print(baseline_accuracy)\n"
      ],
      "execution_count": 8,
      "outputs": [
        {
          "output_type": "stream",
          "text": [
            "(699, 10)\n",
            "(699, 9)\n",
            "(699,)\n",
            "0.6571428571428571\n"
          ],
          "name": "stdout"
        }
      ]
    },
    {
      "cell_type": "markdown",
      "metadata": {
        "id": "J3RUF9RvgA-N"
      },
      "source": [
        "### 3.  Bagging : Build a generic Bagging ensemble and print the accuracy (4 marks)\n",
        "---\n",
        "\n",
        "\n",
        "Hyperparameters:\n",
        "\n",
        "Base estimator = DecisionTreeClassifier\n",
        "\n",
        "n_estimators = 10\n",
        "\n",
        "random_state = 42\n",
        "\n",
        "---\n"
      ]
    },
    {
      "cell_type": "code",
      "metadata": {
        "id": "C78-znrIUDcs",
        "colab": {
          "base_uri": "https://localhost:8080/"
        },
        "outputId": "8891c7dd-9d66-4ca0-a506-0c24b5284200"
      },
      "source": [
        "# Generic Bagging model\n",
        "# Enter your code here\n",
        "\n",
        "from sklearn.ensemble import BaggingClassifier\n",
        "from sklearn.metrics import accuracy_score\n",
        "from sklearn.tree import DecisionTreeClassifier\n",
        "\n",
        "base_est = DecisionTreeClassifier(max_depth=4)\n",
        "m_bagging = BaggingClassifier(base_est, random_state=42, n_estimators=10)\n",
        "m_bagging.fit(X_train, y_train)\n",
        "p_bagging = m_bagging.predict(X_test)\n",
        "accuracy_bagging = accuracy_score(y_test, p_bagging)\n",
        "print(accuracy_bagging)\n"
      ],
      "execution_count": 9,
      "outputs": [
        {
          "output_type": "stream",
          "text": [
            "0.9619047619047619\n"
          ],
          "name": "stdout"
        }
      ]
    },
    {
      "cell_type": "markdown",
      "metadata": {
        "id": "mlupszlqg6El"
      },
      "source": [
        "### 4. RandomForest : (7 marks)\n",
        "#### a) Build a Random Forest model and print the accuracy (4 marks)\n",
        "---\n",
        "\n",
        "Constructor arguments: \n",
        "\n",
        "\n",
        "n_estimators = 100, max_features = 7 and random_state = 42 \n",
        "\n",
        "\n",
        "---\n",
        "\n",
        "\n"
      ]
    },
    {
      "cell_type": "code",
      "metadata": {
        "colab": {
          "base_uri": "https://localhost:8080/"
        },
        "id": "TagawD02hKlF",
        "outputId": "d8f99545-1372-4a8c-db00-5a20d68a235c"
      },
      "source": [
        "# Random Forest model\n",
        "# Enter your code here\n",
        "from sklearn.ensemble import RandomForestClassifier\n",
        "from sklearn.metrics import (classification_report, recall_score, precision_score, accuracy_score)\n",
        "\n",
        "\n",
        "\n",
        "random_forest = RandomForestClassifier(n_estimators=100, max_features=7, random_state=42)\n",
        "random_forest.fit(X_train, y_train)\n",
        "predict_rf = random_forest.predict(X_test)\n",
        "recall_rf = recall_score(y_test, predict_rf)\n",
        "precision_rf = precision_score(y_test, predict_rf)\n",
        "accuracy_rf = accuracy_score(y_test, predict_rf)\n",
        "print(accuracy_rf)\n"
      ],
      "execution_count": 10,
      "outputs": [
        {
          "output_type": "stream",
          "text": [
            "0.9571428571428572\n"
          ],
          "name": "stdout"
        }
      ]
    },
    {
      "cell_type": "markdown",
      "metadata": {
        "id": "48iH9eV8xkbE"
      },
      "source": [
        "####  b) Calculate the top 3 important features for the above **RandomForest** model and print them (3 marks)"
      ]
    },
    {
      "cell_type": "code",
      "metadata": {
        "id": "M469DqsQxlFN",
        "colab": {
          "base_uri": "https://localhost:8080/",
          "height": 314
        },
        "outputId": "96ec5815-5768-476a-b65a-6f8331b48972"
      },
      "source": [
        "# Top 3 features for RandomForest\n",
        "# Enter your code here\n",
        "feature = random_forest.feature_importances_\n",
        "list_features = X_train.columns\n",
        "frame = pd.DataFrame({'features': list_features, 'importance': feature})\n",
        "print(frame)\n",
        "frame.nlargest(3, columns=['importance'])\n"
      ],
      "execution_count": 11,
      "outputs": [
        {
          "output_type": "stream",
          "text": [
            "                      features  importance\n",
            "0              Clump Thickness    0.041603\n",
            "1      Uniformity of Cell Size    0.503253\n",
            "2     Uniformity of Cell Shape    0.095969\n",
            "3            Marginal Adhesion    0.023139\n",
            "4  Single Epithelial Cell Size    0.009497\n",
            "5              Bland Chromatin    0.229520\n",
            "6                  Bare Nuclei    0.027333\n",
            "7              Normal Nucleoli    0.064596\n",
            "8                      Mitosis    0.005090\n"
          ],
          "name": "stdout"
        },
        {
          "output_type": "execute_result",
          "data": {
            "text/html": [
              "<div>\n",
              "<style scoped>\n",
              "    .dataframe tbody tr th:only-of-type {\n",
              "        vertical-align: middle;\n",
              "    }\n",
              "\n",
              "    .dataframe tbody tr th {\n",
              "        vertical-align: top;\n",
              "    }\n",
              "\n",
              "    .dataframe thead th {\n",
              "        text-align: right;\n",
              "    }\n",
              "</style>\n",
              "<table border=\"1\" class=\"dataframe\">\n",
              "  <thead>\n",
              "    <tr style=\"text-align: right;\">\n",
              "      <th></th>\n",
              "      <th>features</th>\n",
              "      <th>importance</th>\n",
              "    </tr>\n",
              "  </thead>\n",
              "  <tbody>\n",
              "    <tr>\n",
              "      <th>1</th>\n",
              "      <td>Uniformity of Cell Size</td>\n",
              "      <td>0.503253</td>\n",
              "    </tr>\n",
              "    <tr>\n",
              "      <th>5</th>\n",
              "      <td>Bland Chromatin</td>\n",
              "      <td>0.229520</td>\n",
              "    </tr>\n",
              "    <tr>\n",
              "      <th>2</th>\n",
              "      <td>Uniformity of Cell Shape</td>\n",
              "      <td>0.095969</td>\n",
              "    </tr>\n",
              "  </tbody>\n",
              "</table>\n",
              "</div>"
            ],
            "text/plain": [
              "                   features  importance\n",
              "1   Uniformity of Cell Size    0.503253\n",
              "5           Bland Chromatin    0.229520\n",
              "2  Uniformity of Cell Shape    0.095969"
            ]
          },
          "metadata": {
            "tags": []
          },
          "execution_count": 11
        }
      ]
    },
    {
      "cell_type": "markdown",
      "metadata": {
        "id": "rnrkSasYh6gF"
      },
      "source": [
        "### 5. Boosting: (7 marks)\n",
        "#### a) Build an AdaBoost model with training data and print the accuracy (4 marks)\n",
        "---\n",
        "\n",
        "Hyperparameters:\n",
        "\n",
        "Base estimator = DecisionTreeClassifier, max_depth = 4\n",
        "\n",
        "n_estimators = 200\n",
        "\n",
        "random_state = 42\n",
        "\n",
        "learning_rate = 0.05\n",
        "\n",
        "\n",
        "---\n",
        "\n",
        "\n",
        "\n",
        "\n",
        "\n",
        "\n",
        "\n"
      ]
    },
    {
      "cell_type": "code",
      "metadata": {
        "id": "DQIzaUjWUHv7",
        "colab": {
          "base_uri": "https://localhost:8080/"
        },
        "outputId": "32876614-7b34-4e9d-bb07-478480593adf"
      },
      "source": [
        "# AdaBoost Classification\n",
        "# Enter your code here\n",
        "from sklearn.ensemble import AdaBoostClassifier\n",
        "from sklearn.tree import DecisionTreeClassifier\n",
        "\n",
        "base_est = DecisionTreeClassifier(max_depth=4)\n",
        "ada_boost = AdaBoostClassifier(base_est, n_estimators = 200, random_state = 42, learning_rate = 0.05)\n",
        "ada_boost.fit(X_train, y_train)\n",
        "predict_ada = ada_boost.predict(X_test)\n",
        "res1 = round(recall_score(y_test, predict_ada), 4)\n",
        "accuracy_ada = accuracy_score(y_test, predict_ada)\n",
        "print(accuracy_ada)"
      ],
      "execution_count": 12,
      "outputs": [
        {
          "output_type": "stream",
          "text": [
            "0.9523809523809523\n"
          ],
          "name": "stdout"
        }
      ]
    },
    {
      "cell_type": "markdown",
      "metadata": {
        "id": "usBQDazfw2L1"
      },
      "source": [
        "#### b) Calculate the top 3 important features for the above **AdaBoost** model and print them (3 marks)"
      ]
    },
    {
      "cell_type": "code",
      "metadata": {
        "id": "jbEUjwQRw3rW",
        "colab": {
          "base_uri": "https://localhost:8080/",
          "height": 314
        },
        "outputId": "9de9292c-f367-4a08-d90a-be4b8901e34a"
      },
      "source": [
        "# Top 3 features for AdaBoost\n",
        "# Enter your code here\n",
        "\n",
        "feature = ada_boost.feature_importances_\n",
        "list_features = X_train.columns\n",
        "frame = pd.DataFrame({'features': list_features, 'importance': feature})\n",
        "print(frame)\n",
        "frame.nlargest(3, columns=['importance'])\n",
        "\n"
      ],
      "execution_count": 13,
      "outputs": [
        {
          "output_type": "stream",
          "text": [
            "                      features  importance\n",
            "0              Clump Thickness    0.323357\n",
            "1      Uniformity of Cell Size    0.183736\n",
            "2     Uniformity of Cell Shape    0.074068\n",
            "3            Marginal Adhesion    0.077525\n",
            "4  Single Epithelial Cell Size    0.028903\n",
            "5              Bland Chromatin    0.115301\n",
            "6                  Bare Nuclei    0.026363\n",
            "7              Normal Nucleoli    0.138899\n",
            "8                      Mitosis    0.031848\n"
          ],
          "name": "stdout"
        },
        {
          "output_type": "execute_result",
          "data": {
            "text/html": [
              "<div>\n",
              "<style scoped>\n",
              "    .dataframe tbody tr th:only-of-type {\n",
              "        vertical-align: middle;\n",
              "    }\n",
              "\n",
              "    .dataframe tbody tr th {\n",
              "        vertical-align: top;\n",
              "    }\n",
              "\n",
              "    .dataframe thead th {\n",
              "        text-align: right;\n",
              "    }\n",
              "</style>\n",
              "<table border=\"1\" class=\"dataframe\">\n",
              "  <thead>\n",
              "    <tr style=\"text-align: right;\">\n",
              "      <th></th>\n",
              "      <th>features</th>\n",
              "      <th>importance</th>\n",
              "    </tr>\n",
              "  </thead>\n",
              "  <tbody>\n",
              "    <tr>\n",
              "      <th>0</th>\n",
              "      <td>Clump Thickness</td>\n",
              "      <td>0.323357</td>\n",
              "    </tr>\n",
              "    <tr>\n",
              "      <th>1</th>\n",
              "      <td>Uniformity of Cell Size</td>\n",
              "      <td>0.183736</td>\n",
              "    </tr>\n",
              "    <tr>\n",
              "      <th>7</th>\n",
              "      <td>Normal Nucleoli</td>\n",
              "      <td>0.138899</td>\n",
              "    </tr>\n",
              "  </tbody>\n",
              "</table>\n",
              "</div>"
            ],
            "text/plain": [
              "                  features  importance\n",
              "0          Clump Thickness    0.323357\n",
              "1  Uniformity of Cell Size    0.183736\n",
              "7          Normal Nucleoli    0.138899"
            ]
          },
          "metadata": {
            "tags": []
          },
          "execution_count": 13
        }
      ]
    },
    {
      "cell_type": "markdown",
      "metadata": {
        "id": "zMpdvP7ZjAOt"
      },
      "source": [
        "### 6. Voting : Using a voting classifier, build an ensemble of RandomForestClassifier, DecisionTreeClassifier, Support Vector Machine and Logistic Regression. (7 marks)\n",
        "\n",
        "\n",
        "---\n",
        "\n",
        "\n",
        "Use max_depth = 4, n_estimators = 200, voting = soft"
      ]
    },
    {
      "cell_type": "code",
      "metadata": {
        "id": "3M3ZIcrqUKjK",
        "colab": {
          "base_uri": "https://localhost:8080/"
        },
        "outputId": "f1bf0f5a-fed9-4076-d751-d54c8f712e7e"
      },
      "source": [
        "# Voting Ensemble for Classification\n",
        "# Enter your code here\n",
        "\n",
        "from sklearn.ensemble import RandomForestClassifier, VotingClassifier\n",
        "from sklearn.tree import DecisionTreeClassifier\n",
        "from sklearn.svm import SVC\n",
        "from sklearn.linear_model import LogisticRegression\n",
        "\n",
        "rf_classifier = RandomForestClassifier(n_estimators=200, random_state=0)\n",
        "Dtree_classifier = DecisionTreeClassifier(max_depth=4)\n",
        "svm_classifier = SVC(probability = True, random_state = 0)\n",
        "log_classifier = LogisticRegression(random_state=0)\n",
        "\n",
        "classifier2 = VotingClassifier(estimators=[('rf', rf_classifier), ('Dt', Dtree_classifier) , ('svm', svm_classifier), ('log', log_classifier)], voting='soft')\n",
        "\n",
        "classifier2.fit(X_train, y_train)\n",
        "\n",
        "classifier2_predict = classifier2.predict(X_test)\n",
        "recall_voting = recall_score(y_test, classifier2_predict)\n",
        "precision_voting = precision_score(y_test, classifier2_predict)\n",
        "accuracy = accuracy_score(y_test, classifier2_predict)\n",
        "print(accuracy)\n",
        "\n"
      ],
      "execution_count": 14,
      "outputs": [
        {
          "output_type": "stream",
          "text": [
            "0.9571428571428572\n"
          ],
          "name": "stdout"
        }
      ]
    },
    {
      "cell_type": "markdown",
      "metadata": {
        "id": "Wj2CVbBYVTun"
      },
      "source": [
        "### 7. Mention the best model among the above 4 models and its accuracy (1 mark)"
      ]
    },
    {
      "cell_type": "code",
      "metadata": {
        "id": "gj09m4z_lXNB",
        "colab": {
          "base_uri": "https://localhost:8080/"
        },
        "outputId": "2ff99f81-4333-4906-86f9-d126234b7785"
      },
      "source": [
        "# Write your answer here\n",
        "\n",
        "# Not sure if this was for the previous questions or out of all the models above so I included both!\n",
        "\n",
        "# RandomForest Accuracy\n",
        "rf_classifier.fit(X_train, y_train)\n",
        "accuracy_rf = accuracy_score(y_test, rf_classifier.predict(X_test))\n",
        "print(accuracy_rf)\n",
        "\n",
        "# DecisionTree Accuracy\n",
        "Dtree_classifier.fit(X_train, y_train)\n",
        "accuracy_dt = accuracy_score(y_test, Dtree_classifier.predict(X_test))\n",
        "print(accuracy_dt)\n",
        "\n",
        "#SVM accuracy\n",
        "svm_classifier.fit(X_train, y_train)\n",
        "accuracy_svm = accuracy_score(y_test, svm_classifier.predict(X_test))\n",
        "print(accuracy_svm)\n",
        "\n",
        "#Log accuracy\n",
        "log_classifier.fit(X_train, y_train)\n",
        "accuracy_log = accuracy_score(y_test, log_classifier.predict(X_test))\n",
        "print(accuracy_log)\n",
        "\n",
        "\n",
        "# the best model among the above 4 models is RandomForestClassifier and its accuracy is 0.96\n",
        "\n",
        "print(\"The best model among the above 4 models in Q6 is RandomForestClassifier and its accuracy is\", accuracy_rf)\n",
        "\n",
        "\n",
        "# Out of all the models in the previous questions\n",
        "print(\"The bagging model is the best model with an accuracy of\", accuracy_bagging)\n",
        "\n",
        "\n",
        "\n",
        "\n"
      ],
      "execution_count": 15,
      "outputs": [
        {
          "output_type": "stream",
          "text": [
            "0.9619047619047619\n",
            "0.9428571428571428\n",
            "0.9571428571428572\n",
            "0.9571428571428572\n",
            "The best model among the above 4 models in Q6 is RandomForestClassifier and its accuracy is 0.9619047619047619\n",
            "The bagging model is the best model with an accuracy of 0.9619047619047619\n"
          ],
          "name": "stdout"
        }
      ]
    }
  ]
}